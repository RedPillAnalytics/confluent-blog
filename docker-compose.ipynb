{
 "cells": [
  {
   "cell_type": "code",
   "execution_count": 30,
   "metadata": {
    "slideshow": {
     "slide_type": "-"
    }
   },
   "outputs": [],
   "source": [
    "gw = './gradlew'\n",
    "gwp = gw + ' --console=plain'"
   ]
  },
  {
   "cell_type": "code",
   "execution_count": 32,
   "metadata": {},
   "outputs": [
    {
     "name": "stdout",
     "output_type": "stream",
     "text": [
      "\n",
      "\n",
      "\u001b[2A\u001b[1m<\u001b[0;1m-------------> 0% CONFIGURING [0s]\u001b[m\u001b[35D\u001b[1B\u001b[1m> root project\u001b[m\u001b[14D\u001b[1B\u001b[2A\u001b[0K\n",
      "\u001b[1m> Task :tasks\u001b[m\u001b[0K\n",
      "\n",
      "\u001b[1m------------------------------------------------------------\u001b[m\n",
      "\u001b[1mTasks runnable from root project\u001b[m\n",
      "\u001b[1m------------------------------------------------------------\u001b[m\n",
      "\n",
      "\u001b[1mDocker tasks\u001b[m\n",
      "\u001b[1m------------\u001b[m\n",
      "\u001b[32mcomposeBuild\u001b[39m\u001b[33m - Builds images for services of docker-compose project\u001b[39m\n",
      "\u001b[32mcomposeDown\u001b[39m\u001b[33m - Stops and removes containers of docker-compose project (only if stopContainers is set to true)\u001b[39m\n",
      "\u001b[32mcomposeDownForced\u001b[39m\u001b[33m - Stops and removes containers of docker-compose project\u001b[39m\n",
      "\u001b[32mcomposeLogs\u001b[39m\u001b[33m - Stores log output from services in containers of docker-compose project\u001b[39m\n",
      "\u001b[32mcomposePull\u001b[39m\u001b[33m - Builds and pulls images of docker-compose project\u001b[39m\n",
      "\u001b[32mcomposePush\u001b[39m\u001b[33m - Pushes images for services of docker-compose project\u001b[39m\n",
      "\u001b[32mcomposeUp\u001b[39m\u001b[33m - Builds and starts containers of docker-compose project\u001b[39m\n",
      "\n",
      "To see all tasks and more detail, run \u001b[1mgradlew\u001b[m\u001b[1m \u001b[m\u001b[1mtasks --all\u001b[m\n",
      "\n",
      "To see more detail about a task, run \u001b[1mgradlew\u001b[m\u001b[1m \u001b[m\u001b[1mhelp --task <task>\u001b[m\n",
      "\n",
      "\u001b[32;1mBUILD SUCCESSFUL\u001b[0;39m in 0s\n",
      "1 actionable task: 1 executed\n",
      "\u001b[0K\n",
      "\u001b[0K\n",
      "\u001b[2A\u001b[1m<\u001b[0;1m-------------> 0% WAITING\u001b[m\u001b[26D\u001b[1B> IDLE\u001b[6D\u001b[1B\u001b[2A\u001b[2K\u001b[1B\u001b[2K\u001b[1A\u001b[m"
     ]
    }
   ],
   "source": [
    "!$gw tasks --group docker"
   ]
  },
  {
   "cell_type": "code",
   "execution_count": 35,
   "metadata": {
    "slideshow": {
     "slide_type": "-"
    }
   },
   "outputs": [
    {
     "name": "stdout",
     "output_type": "stream",
     "text": [
      "zookeeper uses an image, skipping\n",
      "kafka uses an image, skipping\n",
      "schema-registry uses an image, skipping\n",
      "kafka-connect uses an image, skipping\n",
      "ksql-server uses an image, skipping\n",
      "ksql-cli uses an image, skipping\n",
      "kafkacat uses an image, skipping\n",
      "datagen uses an image, skipping\n",
      "Creating network \"4d800fa68ea5d141d90d0e03a2a88749_kafka-examples__default\" with the default driver\n",
      "Creating zookeeper ... \n",
      "Creating zookeeper ... done\n",
      "Creating kafka     ... \n",
      "Creating kafka     ... done\n",
      "Creating kafkacat  ... \n",
      "Creating schema-registry ... \n",
      "Creating schema-registry ... done\n",
      "Creating datagen         ... \n",
      "Creating kafka-connect   ... \n",
      "Creating ksql-server     ... \n",
      "Creating kafkacat        ... done\n",
      "Creating ksql-server     ... done\n",
      "Creating ksql-cli        ... \n",
      "Creating datagen         ... done\n",
      "Creating kafka-connect   ... done\n",
      "Creating ksql-cli        ... done\n",
      "\u001b[m"
     ]
    }
   ],
   "source": [
    "!$gwp -q composeUp"
   ]
  },
  {
   "cell_type": "code",
   "execution_count": 36,
   "metadata": {},
   "outputs": [
    {
     "name": "stdout",
     "output_type": "stream",
     "text": [
      "\n",
      "\n",
      "\u001b[2A\u001b[1m<\u001b[0;1m-------------> 0% CONFIGURING [0s]\u001b[m\u001b[35D\u001b[1B\u001b[1m> root project\u001b[m\u001b[14D\u001b[1B\u001b[2A\u001b[0K\n",
      "\u001b[1m> Task :tasks\u001b[m\u001b[0K\n",
      "\n",
      "\u001b[1m------------------------------------------------------------\u001b[m\n",
      "\u001b[1mTasks runnable from root project\u001b[m\n",
      "\u001b[1m------------------------------------------------------------\u001b[m\n",
      "\n",
      "\u001b[1mConfluent tasks\u001b[m\n",
      "\u001b[1m---------------\u001b[m\n",
      "\u001b[32mdeploy\u001b[39m\u001b[33m - Execute any configured deployment tasks.\u001b[39m\n",
      "\u001b[32mlistTopics\u001b[39m\u001b[33m - List all topics.\u001b[39m\n",
      "\u001b[32mpipelineExecute\u001b[39m\u001b[33m - Execute all KSQL pipelines from the provided source directory, in hierarchical order, with options for auto-generating and executing DROP and TERMINATE commands.\u001b[39m\n",
      "\u001b[32mpipelineScript\u001b[39m\u001b[33m - Build a single KSQL deployment script with individual pipeline processes ordered and normalized. Primarily used for building a KSQL queries file used for KSQL Server startup.\u001b[39m\n",
      "\u001b[32mpipelineSync\u001b[39m\u001b[33m - Synchronize the pipeline build directory from the pipeline source directory.\u001b[39m\n",
      "\u001b[32mpipelineZip\u001b[39m\u001b[33m - Build a distribution ZIP file with original pipeline source files plus the KSQL queries file generated by 'pipelineScript'.\u001b[39m\n",
      "\n",
      "To see all tasks and more detail, run \u001b[1mgradlew\u001b[m\u001b[1m \u001b[m\u001b[1mtasks --all\u001b[m\n",
      "\n",
      "To see more detail about a task, run \u001b[1mgradlew\u001b[m\u001b[1m \u001b[m\u001b[1mhelp --task <task>\u001b[m\n",
      "\n",
      "\u001b[32;1mBUILD SUCCESSFUL\u001b[0;39m in 0s\n",
      "1 actionable task: 1 executed\n",
      "\u001b[0K\n",
      "\u001b[0K\n",
      "\u001b[2A\u001b[1m<\u001b[0;1m-------------> 0% WAITING\u001b[m\u001b[26D\u001b[1B\u001b[1m> root project\u001b[m\u001b[14D\u001b[1B\u001b[1A> IDLE\u001b[0K\u001b[6D\u001b[1B\u001b[2A\u001b[2K\u001b[1B\u001b[2K\u001b[1A\u001b[m"
     ]
    }
   ],
   "source": [
    "!$gw tasks --group confluent"
   ]
  },
  {
   "cell_type": "code",
   "execution_count": 39,
   "metadata": {},
   "outputs": [
    {
     "name": "stdout",
     "output_type": "stream",
     "text": [
      "\n",
      "> Task :ksql:listTopics\n",
      "Name: _confluent-metrics, Registered: false, Partitions: 12, Consumers: 0, Consumer Groups: 0\n",
      "Name: _schemas, Registered: false, Partitions: 1, Consumers: 0, Consumer Groups: 0\n",
      "Name: clickstream, Registered: false, Partitions: 1, Consumers: 0, Consumer Groups: 0\n",
      "Name: clickstream_codes, Registered: false, Partitions: 1, Consumers: 0, Consumer Groups: 0\n",
      "Name: clickstream_users, Registered: false, Partitions: 1, Consumers: 0, Consumer Groups: 0\n",
      "Name: docker-connect-configs, Registered: false, Partitions: 1, Consumers: 0, Consumer Groups: 0\n",
      "Name: docker-connect-offsets, Registered: false, Partitions: 25, Consumers: 0, Consumer Groups: 0\n",
      "Name: docker-connect-status, Registered: false, Partitions: 5, Consumers: 0, Consumer Groups: 0\n",
      "\n",
      "BUILD SUCCESSFUL in 0s\n",
      "1 actionable task: 1 executed\n",
      "\u001b[m"
     ]
    }
   ],
   "source": [
    "!$gwp listTopics"
   ]
  },
  {
   "cell_type": "code",
   "execution_count": 40,
   "metadata": {
    "slideshow": {
     "slide_type": "-"
    }
   },
   "outputs": [
    {
     "name": "stdout",
     "output_type": "stream",
     "text": [
      "\n",
      "> Task :composeDown\n",
      "Stopping ksql-cli        ... \n",
      "Stopping kafka-connect   ... \n",
      "Stopping ksql-server     ... \n",
      "Stopping datagen         ... \n",
      "Stopping kafkacat        ... \n",
      "Stopping schema-registry ... \n",
      "Stopping kafka           ... \n",
      "Stopping zookeeper       ... \n",
      "Stopping kafka-connect   ... done\n",
      "Stopping datagen         ... done\n",
      "Stopping ksql-cli        ... done\n",
      "Stopping kafkacat        ... done\n",
      "Stopping ksql-server     ... done\n",
      "Stopping schema-registry ... done\n",
      "Stopping kafka           ... done\n",
      "Stopping zookeeper       ... done\n",
      "Removing ksql-cli        ... \n",
      "Removing kafka-connect   ... \n",
      "Removing ksql-server     ... \n",
      "Removing datagen         ... \n",
      "Removing kafkacat        ... \n",
      "Removing schema-registry ... \n",
      "Removing kafka           ... \n",
      "Removing zookeeper       ... \n",
      "Removing schema-registry ... done\n",
      "Removing ksql-server     ... done\n",
      "Removing datagen         ... done\n",
      "Removing ksql-cli        ... done\n",
      "Removing kafkacat        ... done\n",
      "Removing zookeeper       ... done\n",
      "Removing kafka           ... done\n",
      "Removing kafka-connect   ... done\n",
      "Removing network 4d800fa68ea5d141d90d0e03a2a88749_kafka-examples__default\n",
      "\n",
      "BUILD SUCCESSFUL in 20s\n",
      "1 actionable task: 1 executed\n",
      "\u001b[m"
     ]
    }
   ],
   "source": [
    "!$gwp composeDown"
   ]
  },
  {
   "cell_type": "code",
   "execution_count": null,
   "metadata": {},
   "outputs": [],
   "source": []
  }
 ],
 "metadata": {
  "kernelspec": {
   "display_name": "Python 3",
   "language": "python",
   "name": "python3"
  },
  "language_info": {
   "codemirror_mode": {
    "name": "ipython",
    "version": 3
   },
   "file_extension": ".py",
   "mimetype": "text/x-python",
   "name": "python",
   "nbconvert_exporter": "python",
   "pygments_lexer": "ipython3",
   "version": "3.7.0"
  }
 },
 "nbformat": 4,
 "nbformat_minor": 2
}
