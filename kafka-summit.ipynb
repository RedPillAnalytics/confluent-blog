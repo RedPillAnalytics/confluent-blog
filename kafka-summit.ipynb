{
 "cells": [
  {
   "cell_type": "markdown",
   "metadata": {},
   "source": [
    "# Starting our Docker Environment"
   ]
  },
  {
   "cell_type": "code",
   "execution_count": null,
   "metadata": {},
   "outputs": [],
   "source": [
    "!./gradlew --console=plain tasks --group docker -q"
   ]
  },
  {
   "cell_type": "code",
   "execution_count": null,
   "metadata": {
    "slideshow": {
     "slide_type": "-"
    }
   },
   "outputs": [],
   "source": [
    "!./gradlew --console=plain -q composeUp"
   ]
  },
  {
   "cell_type": "code",
   "execution_count": null,
   "metadata": {},
   "outputs": [],
   "source": [
    "ksql = \"/usr/local/bin/ksql\"\n",
    "!echo \"LIST TOPICS;\" | \"$ksql\""
   ]
  },
  {
   "cell_type": "markdown",
   "metadata": {},
   "source": [
    "# The Developer Experience\n",
    "### Create a *registration* stream `CLICKSTREAM`:"
   ]
  },
  {
   "cell_type": "code",
   "execution_count": null,
   "metadata": {},
   "outputs": [],
   "source": [
    "sql = (\n",
    "    \"CREATE STREAM clickstream \"\n",
    "    \"(_time bigint, time varchar, ip varchar, request varchar, status int, userid int, bytes bigint, agent varchar) \"\n",
    "    \"with (kafka_topic = 'clickstream', value_format = 'json');\"\n",
    ")\n",
    "!echo \"$sql\" | \"$ksql\""
   ]
  },
  {
   "cell_type": "markdown",
   "metadata": {},
   "source": [
    "### Create table EVENTS_PER_MIN"
   ]
  },
  {
   "cell_type": "markdown",
   "metadata": {},
   "source": [
    "Now, let's create create another table called `EVENTS_PER_MIN` that uses `CLICKSTREAM`. This is a *persistent query*... it selects data from an existing KSQL stream or table, creates or uses an underlying Kafka topic as a target and initializes the streaming process to transform and persist data to that topic:"
   ]
  },
  {
   "cell_type": "code",
   "execution_count": null,
   "metadata": {},
   "outputs": [],
   "source": [
    "sql = (\n",
    "    \"CREATE TABLE events_per_min AS SELECT userid, count(*) AS events \"\n",
    "    \"FROM clickstream window \"\n",
    "    \"TUMBLING (size 60 second) GROUP BY userid;\"\n",
    ")\n",
    "!echo \"$sql\" | \"$ksql\""
   ]
  },
  {
   "cell_type": "markdown",
   "metadata": {},
   "source": [
    "### Iterating on our Pipeline\n",
    "Now, I want to make some changes to `CLICKSTREAM`. I'll just drop it right?\n",
    "### Drop stream CLICKSTREAM"
   ]
  },
  {
   "cell_type": "code",
   "execution_count": null,
   "metadata": {},
   "outputs": [],
   "source": [
    "sql = (\n",
    "    \"DROP STREAM clickstream; \"\n",
    ")\n",
    "!echo \"$sql\" | \"$ksql\""
   ]
  },
  {
   "cell_type": "markdown",
   "metadata": {},
   "source": [
    "### Terminate our auto-incrementing query id"
   ]
  },
  {
   "cell_type": "code",
   "execution_count": null,
   "metadata": {},
   "outputs": [],
   "source": [
    "sql = (\n",
    "    \"TERMINATE QUERY CTAS_EVENTS_PER_MIN_0; \"\n",
    ")\n",
    "!echo \"$sql\" | \"$ksql\""
   ]
  },
  {
   "cell_type": "markdown",
   "metadata": {},
   "source": [
    "### Now drop CLICKSTREAM again"
   ]
  },
  {
   "cell_type": "code",
   "execution_count": null,
   "metadata": {},
   "outputs": [],
   "source": [
    "sql = (\n",
    "    \"DROP STREAM clickstream; \"\n",
    ")\n",
    "!echo \"$sql\" | \"$ksql\""
   ]
  },
  {
   "cell_type": "markdown",
   "metadata": {},
   "source": [
    "### Is this workable long-term?\n",
    "Wouldn't it be great if this could be automated?"
   ]
  },
  {
   "cell_type": "markdown",
   "metadata": {},
   "source": [
    "# The `gradle-confluent` Plugin\n",
    "\n",
    "[GitHub Repository](https://github.com/RedPillAnalytics/gradle-confluent)\n",
    "\n",
    "[Gradle Plugin Portal](https://plugins.gradle.org/plugin/com.redpillanalytics.gradle-confluent)\n",
    "\n",
    "\n",
    "Our `build.gradle` file:"
   ]
  },
  {
   "cell_type": "raw",
   "metadata": {},
   "source": [
    "plugins {\n",
    "   id \"com.redpillanalytics.gradle-confluent\" version '1.1.8'\n",
    "}\n",
    "\n",
    "confluent {\n",
    "    enablePipelines true\n",
    "}"
   ]
  },
  {
   "cell_type": "code",
   "execution_count": null,
   "metadata": {},
   "outputs": [],
   "source": [
    "!./gradlew ksql:tasks --group confluent"
   ]
  },
  {
   "cell_type": "markdown",
   "metadata": {},
   "source": [
    "### The `pipelineExecute` task"
   ]
  },
  {
   "cell_type": "code",
   "execution_count": null,
   "metadata": {},
   "outputs": [],
   "source": [
    "!./gradlew --console=plain help --task ksql:pipelineExecute"
   ]
  },
  {
   "cell_type": "markdown",
   "metadata": {},
   "source": [
    "### Executing the `01-clickstream` pipeline"
   ]
  },
  {
   "cell_type": "code",
   "execution_count": null,
   "metadata": {},
   "outputs": [],
   "source": [
    "!./gradlew --console=plain ksql:pipelineExecute --pipeline-dir 01-clickstream"
   ]
  },
  {
   "cell_type": "code",
   "execution_count": null,
   "metadata": {},
   "outputs": [],
   "source": [
    "!./gradlew --console=plain ksql:pipelineExecute -i"
   ]
  },
  {
   "cell_type": "markdown",
   "metadata": {},
   "source": [
    "### Building KSQL artifacts"
   ]
  },
  {
   "cell_type": "raw",
   "metadata": {},
   "source": [
    "plugins {\n",
    "   id \"com.redpillanalytics.gradle-confluent\" version \"1.1.8\"\n",
    "   id 'maven-publish'\n",
    "}\n",
    "\n",
    "publishing {\n",
    "    repositories {\n",
    "        mavenLocal()\n",
    "    }\n",
    "}\n",
    "group = 'com.redpillanalytics'\n",
    "version = '1.0.0'"
   ]
  },
  {
   "cell_type": "code",
   "execution_count": null,
   "metadata": {},
   "outputs": [],
   "source": [
    "!./gradlew --console=plain ksql:build ksql:publish"
   ]
  },
  {
   "cell_type": "code",
   "execution_count": null,
   "metadata": {},
   "outputs": [],
   "source": [
    "!zipinfo ~/.m2/repository/com/redpillanalytics/ksql-pipeline/1.0.0/ksql-pipeline-1.0.0.zip"
   ]
  },
  {
   "cell_type": "code",
   "execution_count": null,
   "metadata": {},
   "outputs": [],
   "source": [
    "!cat ksql/build/pipeline/ksql-script.sql"
   ]
  },
  {
   "cell_type": "markdown",
   "metadata": {},
   "source": [
    "### Deploying KSQL artifacts"
   ]
  },
  {
   "cell_type": "code",
   "execution_count": null,
   "metadata": {},
   "outputs": [],
   "source": [
    "!./gradlew --console=plain ksql:deploy"
   ]
  },
  {
   "cell_type": "markdown",
   "metadata": {},
   "source": [
    "### KSQL Directives\n",
    "\n",
    "We needed a way to control some of the auto-generated SQL statements.\n",
    "\n",
    "For instance... we wanted to add `... DELETE TOPIC` granularly to some of our KSQL scripts.\n",
    "\n",
    "We introduced *directives*... smart comments beginning with `--@`."
   ]
  },
  {
   "cell_type": "raw",
   "metadata": {},
   "source": [
    "--@DeleteTopic\n",
    "CREATE TABLE ENRICHED_ERROR_CODES_COUNT AS\n",
    "SELECT code, definition, COUNT(*) AS count\n",
    "FROM ENRICHED_ERROR_CODES WINDOW TUMBLING (size 30 second)\n",
    "GROUP BY code, definition\n",
    "HAVING COUNT(*) > 1;"
   ]
  },
  {
   "cell_type": "code",
   "execution_count": null,
   "metadata": {},
   "outputs": [],
   "source": [
    "!./gradlew --console=plain ksql:pipelineExecute --pipeline-dir 01-clickstream -i"
   ]
  },
  {
   "cell_type": "markdown",
   "metadata": {},
   "source": [
    "# KSQL User Defined Functions\n",
    "\n",
    "### Create `decode()` function for a `CASE`-like experience"
   ]
  },
  {
   "cell_type": "raw",
   "metadata": {},
   "source": [
    "@UdfDescription(\n",
    "        name = \"decode\",\n",
    "        description = \"\"\"Given up to 3 pairs of 'search' and 'text', return the first 'text' value where 'search' matches 'expression'. If no match, return 'defaultvalue'. 'ignorecase' defaults to 'false'.\"\"\")\n",
    "class Decode {\n",
    "\n",
    "   @Udf(description = \"\"\"Given 1 pair of 'search' and 'text', return the first 'text' value where 'search' matches 'expression'. If no match, return 'defaultvalue'. 'ignorecase' defaults to 'false'.\"\"\")\n",
    "   String decode(String expression, String search1, String text1, String defaultvalue, Boolean ignorecase = false) {\n",
    "\n",
    "      // If any of the expected values are null, then just return null\n",
    "      if (expression == null || search1 == null || text1 == null) return null\n",
    "\n",
    "      return Utils.textMatch(expression, search1, ignorecase) ? text1 : defaultvalue\n",
    "   }\n",
    "[...]\n",
    "}"
   ]
  },
  {
   "cell_type": "markdown",
   "metadata": {},
   "source": [
    "### And here is a snippet from our *test specification* using the [Spock Framework](http://spockframework.org/):"
   ]
  },
  {
   "cell_type": "raw",
   "metadata": {},
   "source": [
    "@Shared\n",
    "Decode decode = new Decode()\n",
    "\n",
    "@Unroll\n",
    "def \"When: #expression, #search, #text, #defaultValue; Expect: #result\"() {\n",
    "\n",
    "   expect:\n",
    "   decode.decode(expression, search, text, defaultValue) == result\n",
    "\n",
    "   where:\n",
    "   expression    | search        | text  | defaultValue || result\n",
    "   'KSQL Rocks!' | 'ksql rocks!' | 'yes' | 'no'         || 'no'\n",
    "   'KSQL Rocks!' | 'KSQL Rocks!' | 'yes' | 'no'         || 'yes'\n",
    "}"
   ]
  },
  {
   "cell_type": "markdown",
   "metadata": {},
   "source": [
    "### And here is our `build.gradle` file for the `functions` subproject:"
   ]
  },
  {
   "cell_type": "raw",
   "metadata": {},
   "source": [
    "plugins {\n",
    "   id 'groovy'\n",
    "   id 'maven-publish'\n",
    "   id 'com.adarshr.test-logger' version '1.6.0'\n",
    "   id \"com.github.johnrengelman.shadow\" version \"5.0.0\"\n",
    "}\n",
    "\n",
    "//customize ShadowJar\n",
    "jar.enabled = false\n",
    "shadowJar { classifier = '' }\n",
    "tasks.build.dependsOn tasks.shadowJar\n",
    "\n",
    "// mavenLocal publish\n",
    "publishing {\n",
    "   publications {\n",
    "      shadow(MavenPublication) { publication ->\n",
    "         project.shadow.component(publication)\n",
    "      }\n",
    "   }\n",
    "   repositories {\n",
    "      mavenLocal()\n",
    "   }\n",
    "}\n",
    "group = 'com.redpillanalytics'\n",
    "version = '1.0.0'\n",
    "\n",
    "dependencies {\n",
    "   compile localGroovy()\n",
    "   compile 'org.slf4j:slf4j-simple:+'\n",
    "   compile 'io.confluent.ksql:ksql-udf:+'\n",
    "   testCompile 'org.spockframework:spock-core:1.2-groovy-2.5'\n",
    "}\n",
    "\n",
    "// confluent dependencies\n",
    "repositories {\n",
    "   jcenter()\n",
    "   maven {\n",
    "      url \"http://packages.confluent.io/maven/\"\n",
    "   }\n",
    "}"
   ]
  },
  {
   "cell_type": "markdown",
   "metadata": {},
   "source": [
    "### Let's build and publish our UDF artifact, and see how many items are in it:"
   ]
  },
  {
   "cell_type": "code",
   "execution_count": null,
   "metadata": {},
   "outputs": [],
   "source": [
    "!./gradlew --console=plain functions:build functions:publish\n",
    "!zipinfo -h ~/.m2/repository/com/redpillanalytics/functions/1.0.0/functions-1.0.0.jar"
   ]
  },
  {
   "cell_type": "code",
   "execution_count": null,
   "metadata": {},
   "outputs": [],
   "source": [
    "docker = \"/usr/local/bin/docker\"\n",
    "!\"$docker\" cp ~/.m2/repository/com/redpillanalytics/functions/1.0.0/functions-1.0.0.jar ksql-server:/etc/ksql-server/ext"
   ]
  },
  {
   "cell_type": "code",
   "execution_count": null,
   "metadata": {},
   "outputs": [],
   "source": [
    "!echo \"LIST TOPICS;\" | \"$ksql\""
   ]
  },
  {
   "cell_type": "code",
   "execution_count": null,
   "metadata": {},
   "outputs": [],
   "source": [
    "!echo \"DESCRIBE FUNCTION DECODE;\" | \"$ksql\""
   ]
  },
  {
   "cell_type": "code",
   "execution_count": null,
   "metadata": {},
   "outputs": [],
   "source": [
    "!./gradlew --console=plain ksql:deploy"
   ]
  },
  {
   "cell_type": "code",
   "execution_count": null,
   "metadata": {},
   "outputs": [],
   "source": [
    "sql = (\n",
    "    \"select definition, decode(definition, \"\n",
    "    \"'Proxy authentication required','Bad', \"\n",
    "    \"'Page not found','Bad', \"\n",
    "    \"'Redirect','Good', \"\n",
    "    \"'Unknown') label \"\n",
    "    \"from enriched_error_codes limit 5;\"\n",
    ")\n",
    "!echo \"$sql\" | \"$ksql\""
   ]
  },
  {
   "cell_type": "markdown",
   "metadata": {},
   "source": [
    "# Stopping our Docker environment"
   ]
  },
  {
   "cell_type": "code",
   "execution_count": null,
   "metadata": {},
   "outputs": [],
   "source": [
    "!./gradlew --console=plain -q composeDown"
   ]
  }
 ],
 "metadata": {
  "kernelspec": {
   "display_name": "Python 3",
   "language": "python",
   "name": "python3"
  },
  "language_info": {
   "codemirror_mode": {
    "name": "ipython",
    "version": 3
   },
   "file_extension": ".py",
   "mimetype": "text/x-python",
   "name": "python",
   "nbconvert_exporter": "python",
   "pygments_lexer": "ipython3",
   "version": "3.6.8"
  }
 },
 "nbformat": 4,
 "nbformat_minor": 2
}
